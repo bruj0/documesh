{
 "cells": [
  {
   "cell_type": "code",
   "execution_count": 1,
   "id": "47ba9038",
   "metadata": {},
   "outputs": [
    {
     "name": "stderr",
     "output_type": "stream",
     "text": [
      "/Users/pablo.vizan/Projects/documesh/venv/lib/python3.12/site-packages/tqdm/auto.py:21: TqdmWarning: IProgress not found. Please update jupyter and ipywidgets. See https://ipywidgets.readthedocs.io/en/stable/user_install.html\n",
      "  from .autonotebook import tqdm as notebook_tqdm\n"
     ]
    }
   ],
   "source": [
    "import sys\n",
    "from unstructured.partition.pdf import partition_pdf"
   ]
  },
  {
   "cell_type": "code",
   "execution_count": 26,
   "id": "aedb3b6a",
   "metadata": {},
   "outputs": [],
   "source": [
    "\n",
    "pdf_folder_path = \".\"\n",
    "pdf_file_name = \"google-10k-sample-14pages.pdf\"\n",
    "\n",
    "# Extract images, tables, and chunk text from a PDF file.\n",
    "raw_pdf_elements = partition_pdf(\n",
    "    filename=pdf_file_name,\n",
    "    extract_images_in_pdf=True,\n",
    "    infer_table_structure=True,\n",
    "    chunking_strategy=\"by_title\",\n",
    "    max_characters=4000,\n",
    "    new_after_n_chars=3800,\n",
    "    combine_text_under_n_chars=2000,\n",
    "    image_output_dir_path=pdf_folder_path,\n",
    ")"
   ]
  },
  {
   "cell_type": "code",
   "execution_count": 40,
   "id": "f3e0af51",
   "metadata": {},
   "outputs": [],
   "source": [
    "from unstructured.partition.pdf import partition_pdf\n",
    "\n",
    "raw_pdf_elements = partition_pdf(\n",
    "    filename=pdf_file_name,                                # mandatory\n",
    "    strategy=\"hi_res\",                                     # mandatory to use ``hi_res`` strategy\n",
    "    extract_images_in_pdf=True,                            # mandatory to set as ``True``\n",
    "    extract_image_block_types=[\"Image\", \"Table\"],          # optional\n",
    "    extract_image_block_to_payload=False,                  # optional\n",
    "    infer_table_structure=True,\n",
    "    chunking_strategy=\"by_title\",\n",
    "    max_characters=4000,\n",
    "    new_after_n_chars=3800,\n",
    "    combine_text_under_n_chars=2000,\n",
    "    image_output_dir_path=pdf_folder_path,\n",
    ")"
   ]
  },
  {
   "cell_type": "code",
   "execution_count": 41,
   "id": "07b1271f",
   "metadata": {},
   "outputs": [],
   "source": [
    "from langchain_text_splitters import CharacterTextSplitter"
   ]
  },
  {
   "cell_type": "code",
   "execution_count": 42,
   "id": "cc208c43",
   "metadata": {},
   "outputs": [
    {
     "data": {
      "text/plain": [
       "[<unstructured.documents.elements.CompositeElement at 0x17c7177d0>,\n",
       " <unstructured.documents.elements.CompositeElement at 0x17c7174d0>,\n",
       " <unstructured.documents.elements.CompositeElement at 0x34d56e270>,\n",
       " <unstructured.documents.elements.CompositeElement at 0x17eb5a240>,\n",
       " <unstructured.documents.elements.CompositeElement at 0x17c716cc0>,\n",
       " <unstructured.documents.elements.CompositeElement at 0x17eb59ac0>,\n",
       " <unstructured.documents.elements.CompositeElement at 0x17eb595b0>,\n",
       " <unstructured.documents.elements.CompositeElement at 0x17c716420>]"
      ]
     },
     "execution_count": 42,
     "metadata": {},
     "output_type": "execute_result"
    }
   ],
   "source": [
    "raw_pdf_elements"
   ]
  },
  {
   "cell_type": "code",
   "execution_count": 43,
   "id": "2932a2ad",
   "metadata": {},
   "outputs": [],
   "source": [
    "# Categorize extracted elements from a PDF into tables and texts.\n",
    "tables = []\n",
    "texts = []\n",
    "for element in raw_pdf_elements:\n",
    "    if \"unstructured.documents.elements.Table\" in str(type(element)):\n",
    "        tables.append(str(element))\n",
    "    elif \"unstructured.documents.elements.CompositeElement\" in str(type(element)):\n",
    "        texts.append(str(element))\n",
    "\n",
    "# Optional: Enforce a specific token size for texts\n",
    "text_splitter = CharacterTextSplitter.from_tiktoken_encoder(\n",
    "    chunk_size=10000, chunk_overlap=0\n",
    ")\n",
    "joined_texts = \" \".join(texts)\n",
    "texts_4k_token = text_splitter.split_text(joined_texts)"
   ]
  },
  {
   "cell_type": "code",
   "execution_count": 44,
   "id": "2cb7000b",
   "metadata": {},
   "outputs": [
    {
     "data": {
      "text/plain": [
       "'source: https://abc.xyz/assets/investor/static/pdf/20220202_alphabet_10K.pdf source: https://abc.xyz/assets/9a/bd/838c917c4b4ab21f94e84c3c2c65/goog-10-k-q4-2022.pdf Note: Tables and figures are converted to images for demonstration purposes.\\n\\nMARKET FOR REGISTRANT’S COMMON EQUITY, RELATED STOCKHOLDER MATTERS AND ISSUER PURCHASES OF EQUITY SECURITIES\\n\\nAs of October 2, 2015, Alphabet Inc. became the successor issuer of Google Inc. pursuant to Rule 12g-3(a) under the Exchange Act. Our Class A common stock has been listed on the Nasdaq Global Select Market under the symbol “GOOG” since August 19, 2004 and under the symbol \"GOOGL\" since April 3, 2014. Prior to August 19, 2004, there was no public market for our stock. Our Class B common stock is neither listed nor traded. Our Class C capital stock has been listed on the Nasdaq Global Select Market under the symbol “GOOG” since April 3, 2014.\\n\\nHolders of Record\\n\\nAs of December 31, 2021, there were approximately 4,907 and 1,733 stockholders of record of our Class A common stock and Class C capital stock, respectively. Because many of our shares of Class A common stock and Class C capital stock are held by brokers and other institutions on behalf of stockholders, we are unable to estimate the total number of stockholders represented by these record holders. As of December 31, 2021, there were approximately 64 stockholders of record of our Class B common stock.\\n\\nDividend Policy\\n\\nWe have never declared or paid any cash dividend on our common or capital stock. The primary use of capital continues to be to invest for the long-term growth of the business. We regularly evaluate our cash and capital structure, including the size, pace, and form of capital return to stockholders.\\n\\nIssuer Purchases of Equity Securities\\n\\nThe following table presents information with respect to Alphabet\\'s repurchases of Class A common stock and Class C capital stock during the quarter ended December 31, 2021:\\n\\nTotal Number of Approxi Shares lar Value of Purchased Shares that Total Number of Total Numberof A\\\\ Price Ai Price Partof Publicly Yet Be Purchased A Shares Inder Purchased Purchased ClassA Share Class C Share Programs Period (in thousands) \"(in thousands) \"’ bl _*___{inthousands)\" __(in millions) _ October 1 - 31 126 1,445 $ 2,812.76 $ 2,794.72 1.571 § 26,450 November 1 - 30 289 1,393 $ 2,943.97 $ 2,956.73 1,682 $ 21,479 December 1 - 31 250 1,169 $ 2,880.79 $ 2,898.56 1,419 $ 17,371 Total 665 4,007 4,672 () The repurchases are being executed from time to time, subject to general business and market conditions and other investment opportunities, through open market purchases or privately negotiated transactions, including through Rule 10b5-1 plans. The repurchase program does not have an expiration date. See Note 11 of the Notes to Consolidated Financial Statements included in Item 8 of this Annual Report on Form 10-K for additional information related to share repurchases. @ Average price paid per share includes costs associated with the repurchases.\\n\\nTotal Number of Approxi Shares lar Value of Purchased Shares that Total Number of Total Numberof A\\\\ Price Ai Price Partof Publicly Yet Be Purchased A Shares Inder Purchased Purchased ClassA Share Class C Share Programs Period (in thousands) \"(in thousands) \"’ bl _*___{inthousands)\" __(in millions) _ October 1 - 31 126 1,445 $ 2,812.76 $ 2,794.72 1.571 § 26,450 November 1 - 30 289 1,393 $ 2,943.97 $ 2,956.73 1,682 $ 21,479 December 1 - 31 250 1,169 $ 2,880.79 $ 2,898.56 1,419 $ 17,371 Total 665 4,007 4,672'"
      ]
     },
     "execution_count": 44,
     "metadata": {},
     "output_type": "execute_result"
    }
   ],
   "source": [
    "raw_pdf_elements[0].text"
   ]
  },
  {
   "cell_type": "code",
   "execution_count": 45,
   "id": "2738bb40",
   "metadata": {},
   "outputs": [],
   "source": [
    "from langchain.prompts import PromptTemplate\n",
    "from langchain_core.runnables import RunnableLambda, RunnablePassthrough\n",
    "from langchain_google_vertexai import (\n",
    "    ChatVertexAI,\n",
    "    VectorSearchVectorStore,\n",
    "    VertexAI,\n",
    "    VertexAIEmbeddings,\n",
    ")\n",
    "from langchain_core.messages import AIMessage, HumanMessage\n",
    "from langchain_core.output_parsers import StrOutputParser\n",
    "\n",
    "\n",
    "\n",
    "MODEL_NAME = \"gemini-2.0-flash\"\n",
    "GEMINI_OUTPUT_TOKEN_LIMIT = 8192\n",
    "\n",
    "EMBEDDING_MODEL_NAME = \"text-embedding-005\"\n",
    "EMBEDDING_TOKEN_LIMIT = 2048\n",
    "\n",
    "TOKEN_LIMIT = min(GEMINI_OUTPUT_TOKEN_LIMIT, EMBEDDING_TOKEN_LIMIT)"
   ]
  },
  {
   "cell_type": "code",
   "execution_count": 46,
   "id": "7d8363fd",
   "metadata": {},
   "outputs": [],
   "source": [
    "# Generate summaries of text elements\n",
    "\n",
    "\n",
    "def generate_text_summaries(\n",
    "    texts: list[str], tables: list[str], summarize_texts: bool = False\n",
    ") -> tuple[list, list]:\n",
    "    \"\"\"\n",
    "    Summarize text elements\n",
    "    texts: List of str\n",
    "    tables: List of str\n",
    "    summarize_texts: Bool to summarize texts\n",
    "    \"\"\"\n",
    "\n",
    "    # Prompt\n",
    "    prompt_text = \"\"\"You are an assistant tasked with summarizing tables and text for retrieval. \\\n",
    "    These summaries will be embedded and used to retrieve the raw text or table elements. \\\n",
    "    Give a concise summary of the table or text that is well optimized for retrieval. Table or text: {element} \"\"\"\n",
    "    prompt = PromptTemplate.from_template(prompt_text)\n",
    "    empty_response = RunnableLambda(\n",
    "        lambda x: AIMessage(content=\"Error processing document\")\n",
    "    )\n",
    "    # Text summary chain\n",
    "    model = VertexAI(\n",
    "        temperature=0, model_name=MODEL_NAME, max_output_tokens=TOKEN_LIMIT\n",
    "    ).with_fallbacks([empty_response])\n",
    "    summarize_chain = {\"element\": lambda x: x} | prompt | model | StrOutputParser()\n",
    "\n",
    "    # Initialize empty summaries\n",
    "    text_summaries = []\n",
    "    table_summaries = []\n",
    "\n",
    "    # Apply to text if texts are provided and summarization is requested\n",
    "    if texts:\n",
    "        if summarize_texts:\n",
    "            text_summaries = summarize_chain.batch(texts, {\"max_concurrency\": 1})\n",
    "        else:\n",
    "            text_summaries = texts\n",
    "\n",
    "    # Apply to tables if tables are provided\n",
    "    if tables:\n",
    "        table_summaries = summarize_chain.batch(tables, {\"max_concurrency\": 1})\n",
    "\n",
    "    return text_summaries, table_summaries\n",
    "\n",
    "\n",
    "# Get text, table summaries\n",
    "text_summaries, table_summaries = generate_text_summaries(\n",
    "    texts_4k_token, tables, summarize_texts=True\n",
    ")\n",
    "     "
   ]
  },
  {
   "cell_type": "code",
   "execution_count": 23,
   "id": "b7e85446",
   "metadata": {},
   "outputs": [
    {
     "name": "stdout",
     "output_type": "stream",
     "text": [
      "['source: https://abc.xyz/assets/investor/static/pdf/20220202_alphabet_10K.pdf source: https://abc.xyz/assets/9a/bd/838c917c4b4ab21f94e84c3c2c65/goog-10-k-q4-2022.pdf Note: Tables and figures are converted to images for demonstration purposes.\\n\\nMARKET FOR REGISTRANT’S COMMON EQUITY, RELATED STOCKHOLDER MATTERS AND ISSUER PURCHASES OF EQUITY SECURITIES\\n\\nAs of October 2, 2015, Alphabet Inc. became the successor issuer of Google Inc. pursuant to Rule 12g-3(a) under the Exchange Act. Our Class A common stock has been listed on the Nasdaq Global Select Market under the symbol “GOOG” since August 19, 2004 and under the symbol \"GOOGL\" since April 3, 2014. Prior to August 19, 2004, there was no public market for our stock. Our Class B common stock is neither listed nor traded. Our Class C capital stock has been listed on the Nasdaq Global Select Market under the symbol “GOOG” since April 3, 2014.\\n\\nHolders of Record\\n\\nAs of December 31, 2021, there were approximately 4,907 and 1,733 stockholders of record of our Class A common stock and Class C capital stock, respectively. Because many of our shares of Class A common stock and Class C capital stock are held by brokers and other institutions on behalf of stockholders, we are unable to estimate the total number of stockholders represented by these record holders. As of December 31, 2021, there were approximately 64 stockholders of record of our Class B common stock.\\n\\nDividend Policy\\n\\nWe have never declared or paid any cash dividend on our common or capital stock. The primary use of capital continues to be to invest for the long-term growth of the business. We regularly evaluate our cash and capital structure, including the size, pace, and form of capital return to stockholders.\\n\\nIssuer Purchases of Equity Securities\\n\\nThe following table presents information with respect to Alphabet\\'s repurchases of Class A common stock and Class C capital stock during the quarter ended December 31, 2021:\\n\\nTotal Number of Approxi Shares lar Value of Purchased Shares that Total Number of Total Numberof A\\\\ Price Ai Price Partof Publicly Yet Be Purchased A Shares Inder Purchased Purchased ClassA Share Class C Share Programs Period (in thousands) \"(in thousands) \"’ bl _*___{inthousands)\" __(in millions) _ October 1 - 31 126 1,445 $ 2,812.76 $ 2,794.72 1.571 § 26,450 November 1 - 30 289 1,393 $ 2,943.97 $ 2,956.73 1,682 $ 21,479 December 1 - 31 250 1,169 $ 2,880.79 $ 2,898.56 1,419 $ 17,371 Total 665 4,007 4,672 () The repurchases are being executed from time to time, subject to general business and market conditions and other investment opportunities, through open market purchases or privately negotiated transactions, including through Rule 10b5-1 plans. The repurchase program does not have an expiration date. See Note 11 of the Notes to Consolidated Financial Statements included in Item 8 of this Annual Report on Form 10-K for additional information related to share repurchases. @ Average price paid per share includes costs associated with the repurchases.\\n\\nTotal Number of Approxi Shares lar Value of Purchased Shares that Total Number of Total Numberof A\\\\ Price Ai Price Partof Publicly Yet Be Purchased A Shares Inder Purchased Purchased ClassA Share Class C Share Programs Period (in thousands) \"(in thousands) \"’ bl _*___{inthousands)\" __(in millions) _ October 1 - 31 126 1,445 $ 2,812.76 $ 2,794.72 1.571 § 26,450 November 1 - 30 289 1,393 $ 2,943.97 $ 2,956.73 1,682 $ 21,479 December 1 - 31 250 1,169 $ 2,880.79 $ 2,898.56 1,419 $ 17,371 Total 665 4,007 4,672', \"Stock Performance Graphs\\n\\nThe graph below matches Alphabet Inc. Class A's cumulative 5-year total stockholder return on common stock with the cumulative total returns of the S&P 500 index, the NASDAQ Composite index, and the RDG Internet Composite index. The graph tracks the performance of a $100 investment in our common stock and in each index (with the reinvestment of all dividends) from December 31, 2016 to December 31, 2021. The returns shown are based on historical results and are not intended to suggest future performance.\\n\\nCOMPARISON OF CUMULATIVE 5-YEAR TOTAL RETURN* ALPHABET INC. CLASS A COMMON STOCK Among Alphabet Inc., the S&P 500 Index, the NASDAQ Composite Index, and the RDG Internet Composite Index $350 $250 $150 $100 BP FSH gg g% gy oF p% gh J gph HK KML LC LS ——— Alphabet Inc. Class A ——— S&P 500 ——— RDG Internet Composite NASDAQ Composite *$100 invested on December 31, 2016 in stock or index, including reinvestment of dividends. Fiscal year ending December 31. Copyright® 2022 S&P, a division of The McGraw-Hill Companies Inc. All rights reserved.\\n\\nThe graph below matches Alphabet Inc. Class A's cumulative 5-year total stockholder return on common stock with the cumulative total returns of the S&P 500 index, the NASDAQ Composite index, and the RDG Internet Composite index. The graph tracks the performance of a $100 investment in our common stock and in each index (with the reinvestment of all dividends) from December 31, 2017 to December 31, 2022. The returns shown are based on historical results and are not intended to suggest future performance.\\n\\nCOMPARISON OF CUMULATIVE 5-YEAR TOTAL RETURN* ALPHABET INC. CLASS A COMMON STOCK Among Alphabet Inc., the S&P 500 Index, the NASDAQ Composite Index, and the RDG Internet Composite Index $400 $350 ~ $300 - $250 - $200 - $150 - $100 $50 ~ $0 “5 T T T T — — — —1— — AnD nD WD DD WD WD 1D GD GO QO GD EW aX Gr Gr GL GV A oD Br FY BF GB ag VM VM DT MM MWh MMM Mh MMM sh Alphabet Inc. Class A —— S&P 500 = NASDAQ Composite RDG Internet Composite *$100 invested on December 31, 2017 in stock or index, including reinvestment of dividends. Copyright® 2023 S&P, a division of The McGraw-Hill Companies Inc. All rights reserved.\", 'Executive Overview\\n\\nThe following table summarizes consolidated financial results for the years ended December 31, 2020 and 2021 unless otherwise specified (in millions, except for per share information and percentages):\\n\\nYear Ended December 31, 2020 2021 $ Change % Change Consolidated revenues $182,527 $257,637 $ 75,110 41% Change in consolidated constant currency revenues 39 % Cost of revenues $ 84,732 $ 110,939 $ 26,207 31% Operating expenses $ 56,571 $ 67,984 $ 11,413 20 % Operating income $ 41,224 $ 78,714 $ 37,490 91% Operating margin 23 % 31 % 8% Other income (expense), net $ 6858 $ 12,020 $ 5,162 75 % Net Income $ 40,269 $ 76,033 $ 35,764 89 % Diluted EPS $ 5861 $ 11220 §$ 53.59 91 % Number of Employees 135,301 156,500 21,199 16 %\\n\\n● Revenues were $257.6 billion, an increase of 41%. The increase in revenues was primarily driven by Google Services and Google Cloud. The adverse effect of COVID-19 on 2020 advertising revenues also contributed to the year-over-year growth.\\n\\n● Cost of revenues was $110.9 billion, an increase of 31%, primarily driven by increases in TAC and content acquisition costs.\\n\\n● An overall increase in data centers and other operations costs was partially offset by a reduction in depreciation expense due to the change in the estimated useful life of our servers and certain network equipment. • Operating expenses were $68.0 billion, an increase of 20%, primarily driven by headcount growth, increases in advertising and promotional expenses and charges related to legal matters.\\n\\nOther information:\\n\\n● Operating cash flow was $91.7 billion, primarily driven by revenues generated from our advertising products.\\n\\n● Share repurchases were $50.3 billion, an increase of 62%. See Note 11 of the Notes to Consolidated Financial Statements included in Item 8 of this Annual Report on Form 10-K for further information.\\n\\n● Capital expenditures, which primarily reflected investments in technical infrastructure, were $24.6 billion.\\n\\n● In January 2021, we updated the useful lives of certain of our servers and network equipment, resulting in a reduction in depreciation expense of $2.6 billion recorded primarily in cost of revenues and R&D. See Note 1 of the Notes to Consolidated Financial Statements included in Item 8 of this Annual Report on Form 10-K for further information.\\n\\n● Our acquisition of Fitbit closed in early January 2021, and the related revenues are included in Google other. See Note 8 of the Notes to Consolidated Financial Statements included in Item 8 of this Annual Report on Form 10-K for further information.\\n\\n● On February 1, 2022, the Company announced that the Board of Directors had approved and declared a 20- for-one stock split in the form of a one-time special stock dividend on each share of the Company’s Class A, Class B, and Class C stock. See Note 11 of the Notes to Consolidated Financial Statements included in Item 8 of this Annual Report on Form 10-K for additional information.', \"The Effect of COVID-19 on our Financial Results\\n\\nWe began to observe the effect of COVID-19 on our financial results in March 2020 when, despite an increase in users' search activity, our advertising revenues declined compared to the prior year. This was due to a shift of user search activity to less commercial topics and reduced spending by our advertisers. For the quarter ended June 30, 2020 our advertising revenues declined due to the continued effects of COVID-19 and the related reductions in global economic activity, but we observed a gradual return in user search activity to more commercial topics. This was followed by increased spending by our advertisers, which continued throughout the second half of 2020. Additionally, over the course of 2020, we experienced variability in our margins as many of\\n\\nour expenses are less variable in nature and/or may not correlate to changes in revenues. Market volatility contributed to fluctuations in the valuation of our equity investments. Further, our assessment of the credit deterioration of our customers due to changes in the macroeconomic environment during the period was reflected in our allowance for credit losses for accounts receivable.\\n\\nThroughout 2021 we remained focused on innovating and investing in the services we offer to consumers and businesses to support our long-term growth. The impact of COVID-19 on 2020 financial results affected year-over-year growth trends. The COVID-19 pandemic continues to evolve, be unpredictable and affect our business and financial results. Our past results may not be indicative of our future performance, and historical trends in our financial results may differ materially.\\n\\nsource: https://abc.xyz/assets/investor/static/pdf/20220202_alphabet_10K.pdf source: https://abc.xyz/assets/9a/bd/838c917c4b4ab21f94e84c3c2c65/goog-10-k-q4-2022.pdf Note: Tables and figures are converted to images for demonstration purposes.\", 'Revenues by Geography\\n\\nThe following table presents revenues by geography as a percentage of revenues, determined based on the addresses of our customers:\\n\\nYear Ended December 31, 2020 2021 United States 47 % 46 % EMEA 30 % 31 % APAC. 18 % 18 % Other Americas 5% 5%\\n\\nThe following table presents the foreign exchange effect on international revenues and total revenues (in millions, except percentages):\\n\\nYear Ended December 31, 2a eat % Prior sie EMEA revenues $ 55,370 $ 79,107 43 % EMEA constant currency revenues 76,321 38 % APAC revenues 32,550 46,123 42% APAC constant currency revenues 45,666 40 % Other Americas revenues 9,417 14,404 53 % Other Americas constant currency revenues 14,317 52 % United States revenues 85,014 117,854 39 % Hedging gains (losses) 176 149 Total revenues $ 182,527 $ 257,637 41% Revenues, excluding hedging effect $ 182,351 $ 257,488 Exchange rate effect (3,330) Total constant currency revenues $ 254,158 39 %\\n\\nEMEA revenue growth from 2020 to 2021 was favorably affected by foreign currency exchange rates, primarily due to the U.S. dollar weakening relative to the Euro and British pound.\\n\\nAPAC revenue growth from 2020 to 2021 was favorably affected by foreign currency exchange rates, primarily due to the U.S. dollar weakening relative to the Australian dollar, partially offset by the U.S. dollar strengthening relative to the Japanese yen.\\n\\nOther Americas growth change from 2020 to 2021 was favorably affected by changes in foreign currency exchange rates, primarily due to the U.S. dollar weakening relative to the Canadian dollar, partially offset by the U.S. dollar strengthening relative to the Argentine peso and the Brazilian real.\\n\\nCosts and Expenses\\n\\nCost of Revenues\\n\\nThe following tables present cost of revenues, including TAC (in millions, except percentages):\\n\\nYear Ended December 31, 2020 2021 TAC $ 32,778 = $ 45,566 Other cost of revenues 51,954 65,373 Total cost of revenues $ 84,732. $ 110,939 Total cost of revenues as a percentage of revenues 46.4 % 43.1 %\\n\\nCost of revenues increased $26.2 billion from 2020 to 2021. The increase was due to an increase in other cost of revenues and TAC of $13.4 billion and $12.8 billion, respectively.\\n\\nThe increase in TAC from 2020 to 2021 was due to an increase in TAC paid to distribution partners and to Google Network partners, primarily driven by growth in revenues subject to TAC. The TAC rate decreased from 22.3% to 21.8% from 2020 to 2021 primarily due to a revenue mix shift from Google Network properties to Google Search & other properties.\\n\\nThe TAC rate on Google Search & other properties revenues and the TAC rate on Google Network revenues were both substantially consistent from 2020 to 2021. The increase in other cost of revenues from 2020 to 2021 was driven by\\n\\nincreases in content acquisition costs primarily for YouTube, data center and other operations costs, and hardware costs. The increase in data center and Table of Contents Alphabet Inc. 36 other operations costs was partially offset by a reduction in depreciation expense due to the change in the estimated useful life of our servers and certain network equipment beginning in the first quarter of 2021.', \"Net Income Per Share\\n\\nWe compute net income per share of Class A, Class B, and Class C stock using the two-class method. Basic net income per share is computed using the weighted-average number of shares outstanding during the period. Diluted net income per share is computed using the weighted-average number of shares and the effect of potentially dilutive securities outstanding during the period. Potentially dilutive securities consist of restricted stock units and other contingently issuable shares. The dilutive effect of outstanding restricted stock units and other contingently issuable shares is reflected in diluted earnings per share by application of the treasury stock method. The computation of the diluted net income per share of Class A stock assumes the conversion of Class B stock, while the diluted net income per share of Class B stock does not assume the conversion of those shares.\\n\\nThe rights, including the liquidation and dividend rights, of the holders of our Class A, Class B, and Class C stock are identical, except with respect to voting. Furthermore, there are a number of safeguards built into our certificate of incorporation, as well as Delaware law, which preclude our Board of Directors from declaring or paying unequal per share dividends on our Class A, Class B, and Class C stock. Specifically, Delaware law provides that amendments to our certificate of incorporation which would have the effect of adversely altering the rights, powers, or preferences of a given class of stock must be approved by the class of stock adversely affected by the proposed amendment. In addition, our certificate of incorporation provides that before any such amendment may be put to a stockholder vote, it must be approved by the unanimous consent of our Board of Directors. As a result, the undistributed earnings for each year are allocated based on the contractual participation rights of the Class A, Class B, and Class C stock as if the earnings for the year had been distributed. As the\\n\\nliquidation and dividend rights are identical, the undistributed earnings are allocated on a proportionate basis.\\n\\nIn the years ended December 31, 2019, 2020 and 2021, the net income per share amounts are the same for Class A, Class B, and Class C stock because the holders of each class are entitled to equal per share dividends or distributions in liquidation in accordance with the Amended and Restated Certificate of Incorporation of Alphabet Inc.\\n\\nThe following tables set forth the computation of basic and diluted net income per share of Class A, Class B, and Class C stock (in millions, except share amounts which are reflected in thousands and per share amounts):\\n\\nYear Ended December 31, 2019 Class A Class B Class C Basic net income per share: Numerator Allocation of undistributed earnings $ 14,846 $ 2,307 $ 17,190 Denominator Number of shares used in per share computation 299,402 46,527 346,667 Basic net income per share $ 4959 $ 4959 $ 49.59 Diluted net income per share: Numerator Allocation of undistributed earnings for basic computation $ 14,846 $ 2,307 $ 17,190 Reallocation of undistributed eamings as a result of conversion of Class B to Class A shares 2,307 oO 0 Reallocation of undistributed earings (126) (20) 126 Allocation of undistributed earnings $ 17,027 $ 2,287 $ 17,316 Denominator Number of shares used in basic computation 299,402 46,527 ‘346,667 Weighted-average effect of dilutive securities Add: Conversion of Class B to Class A shares outstanding 46,527 o 0 Restricted stock units and other contingently issuable shares 413 ('} 5,547 Number of shares used in per share computation 346,342 46,527 352,214 Diluted net income per share $ 4916 $ 4916 $ 49.16\", 'Year Ended December 31, 2020 Class A Class B Class C Basic net income per share: Numerator Allocation of undistributed earnings $ 17,733 $ 2,732 $ 19,804 Denominator Number of shares used in per share computation 299,815 46,182 334,819 Basic net income per share $ 59.15 $ 59.15 $ 59.15 Diluted net income per share: Numerator Allocation of undistributed earnings for basic computation $ 17,733 $ 2,732 $ 19,804 Reallocation of undistributed earnings as a result of conversion of Class B to Class A shares 2,732 0 0 Allocation of undistributed earnings $ 20,285 $ 2707 $ 19,984 Denominator Number of shares used in basic computation 299,815 46,182 334,819 Weighted-average effect of dilutive securities Add: Conversion of Class B to Class A shares outstanding 46,182 0 0 Restricted stock units and other contingently issuable shares 87 o 6,125 Number of shares used in per share computation 346,084 46,182 340,944 Diluted net income per share $ 58.61 $ 58.61 $ 58.61\\n\\nStock-Based Award Activities\\n\\nThe following table summarizes the activities for unvested Alphabet RSUs for the year ended December 31, 2021: Unvested Restricted Stock Units Weighted- Number of Grant Date Shares Fair Value Unvested as of December 31, 2020 19,288,793 $ 1,262.13 Granted 10,582,700 $ 1,949.16 Vested (11,209,486) $ 1,345.98 Forfeited/canceled (1,767,294) $ 1,425.48 Unvested as of December 31, 2021 16,894,713 $ 1,626.13\\n\\nUnvested Restricted Stock Units Weighted- Number of Grant Date Shares Fair Value Unvested as of December 31, 2020 19,288,793 $ 1,262.13 Granted 10,582,700 $ 1,949.16 Vested (11,209,486) $ 1,345.98 Forfeited/canceled (1,767,294) $ 1,425.48 Unvested as of December 31, 2021 16,894,713 $ 1,626.13\\n\\nThe weighted-average grant-date fair value of RSUs granted during the years ended December 31, 2019 and 2020 was $1,092.36 and $1,407.97, respectively. Total fair value of RSUs, as of their respective vesting dates, during the years ended December 31, 2019, 2020, and 2021 were $15.2 billion, $17.8 billion, and $28.8 billion, respectively. As of December 31, 2021, there was $25.8 billion of unrecognized compensation cost related to unvested employee RSUs. This amount is expected to be recognized over a weighted-average period of 2.5 years. 401(k) Plans We have two 401(k) Savings Plans that qualify as deferred\\n\\nsalary arrangements under Section 401(k) of the Internal Revenue Code. Under these 401(k) Plans, matching contributions are based upon the amount of the employees’ contributions subject to certain limitations. We recognized expense of approximately $724 million, $855 million, and $916 million for the years ended December 31, 2019, 2020, and 2021, respectively. Note 14. Income Taxes Income from continuing operations before income taxes consisted of the following (in millions):', 'Deferred Income Taxes\\n\\nDeferred income taxes reflect the net effects of temporary differences between the carrying amounts of assets and liabilities for financial reporting purposes and the amounts used for income tax purposes. Significant components of our deferred tax assets and liabilities were as follows (in millions):\\n\\nAs of December 31, 2020 2021 Deferred tax assets: Accrued employee benefits $ 580 $ 549 Accruals and reserves not currently deductible 1,049 1,816 Tax credits 3,723 5,179 Net operating losses 1,085 1,790 Operating leases 2,620 2,503 Intangible assets 1,525 2,034 Other 981 925 Total deferred tax assets 11,563 14,796 Valuation allowance (4,823) (7,129) Total deferred tax assets net of valuation allowance 6,740 7,667 Deferred tax liabilities: Property and equipment, net (3,382) (5,237) Net investment gains (1,901) (3,229) Operating leases (2,354) (2,228) Other (1,580) (946) Total deferred tax liabilities (9,217) (11,640) Net deferred tax assets (liabilities) $ (2,477) $ (3,973)\\n\\nAs of December 31, 2021, our federal, state, and foreign net operating loss carryforwards for income tax purposes were approximately $5.6 billion, $4.6 billion, and $1.7 billion respectively. If not utilized, the federal net operating loss carryforwards will begin to expire in 2023, foreign net operating loss carryforwards will begin to expire in 2025 and the state net operating loss carryforwards will begin to expire in 2028. It is more likely than not that certain\\n\\nnet operating loss carryforwards will not be realized; therefore, we have recorded a valuation allowance against them. The net operating loss carryforwards are subject to various annual limitations under the tax laws of the different jurisdictions. As of December 31, 2021, our California R&D carryforwards for income tax purposes were approximately $5.0 billion that can be carried over indefinitely. We believe the state tax credit is not likely to be realized. As of December 31, 2021, our investment tax credit carryforwards for state income tax purposes were approximately $700 million and will begin to expire in 2025. We use the flow-through method of accounting for investment tax credits. We believe this tax credit is not likely to be realized. As of December 31, 2021, we maintained a valuation allowance with respect to California deferred tax assets, certain federal net operating losses, certain state tax credits, net deferred tax assets relating to certain Other Bets, and certain foreign net operating losses that we believe are not likely to be realized.']\n"
     ]
    }
   ],
   "source": [
    "print(texts)"
   ]
  },
  {
   "cell_type": "code",
   "execution_count": 50,
   "id": "ff40ce0e",
   "metadata": {},
   "outputs": [],
   "source": [
    "import os\n",
    "import base64\n",
    "\n",
    "def encode_image(image_path: str) -> str:\n",
    "    \"\"\"Getting the base64 string\"\"\"\n",
    "    with open(image_path, \"rb\") as image_file:\n",
    "        return base64.b64encode(image_file.read()).decode(\"utf-8\")\n",
    "\n",
    "\n",
    "def image_summarize(model: ChatVertexAI, base64_image: str, prompt: str) -> str:\n",
    "    \"\"\"Make image summary\"\"\"\n",
    "    msg = model.invoke(\n",
    "        [\n",
    "            HumanMessage(\n",
    "                content=[\n",
    "                    {\"type\": \"text\", \"text\": prompt},\n",
    "                    {\n",
    "                        \"type\": \"image_url\",\n",
    "                        \"image_url\": {\"url\": f\"data:image/png;base64,{base64_image}\"},\n",
    "                    },\n",
    "                ]\n",
    "            )\n",
    "        ]\n",
    "    )\n",
    "    return msg.content\n",
    "\n",
    "\n",
    "def generate_img_summaries(path: str) -> tuple[list[str], list[str]]:\n",
    "    \"\"\"\n",
    "    Generate summaries and base64 encoded strings for images\n",
    "    path: Path to list of .jpg files extracted by Unstructured\n",
    "    \"\"\"\n",
    "\n",
    "    # Store base64 encoded images\n",
    "    img_base64_list = []\n",
    "\n",
    "    # Store image summaries\n",
    "    image_summaries = []\n",
    "\n",
    "    # Prompt\n",
    "    prompt = \"\"\"You are an assistant tasked with summarizing images for retrieval. \\\n",
    "    These summaries will be embedded and used to retrieve the raw image. \\\n",
    "    Give a concise summary of the image that is well optimized for retrieval.\n",
    "    If it's a table, extract all elements of the table.\n",
    "    If it's a graph, explain the findings in the graph.\n",
    "    Do not include any numbers that are not mentioned in the image.\n",
    "    \"\"\"\n",
    "\n",
    "    model = ChatVertexAI(model_name=MODEL_NAME, max_output_tokens=TOKEN_LIMIT)\n",
    "\n",
    "    # Apply to images\n",
    "    for img_file in sorted(os.listdir(path)):\n",
    "        if img_file.endswith(\".jpg\"):\n",
    "            base64_image = encode_image(os.path.join(path, img_file))\n",
    "            img_base64_list.append(base64_image)\n",
    "            image_summaries.append(image_summarize(model, base64_image, prompt))\n",
    "\n",
    "    return img_base64_list, image_summaries\n",
    "\n",
    "\n",
    "# Image summaries\n",
    "img_base64_list, image_summaries = generate_img_summaries(\"figures/\")"
   ]
  },
  {
   "cell_type": "code",
   "execution_count": 52,
   "id": "38589403",
   "metadata": {},
   "outputs": [
    {
     "data": {
      "text/plain": [
       "['This is a financial table showing basic and diluted net income per share for the year ended December 31, 2019, for Class A, Class B, and Class C shares. Allocation of undistributed earnings, Number of shares used in per share computation, Reallocation of undistributed earnings as a result of conversion of Class B to Class A shares outstanding, Restricted stock units and other contingently issuable shares are also mentioned.',\n",
       " 'This table summarizes the activities for unvested Alphabet RSUs for the year ended December 31, 2021. The number of shares and weighted-average grant-date fair value are provided. The table includes Unvested as of December 31, 2020, Granted, Vested, Forfeited/canceled and Unvested as of December 31, 2021. The number of shares for Unvested as of December 31, 2020 is 19,288,793. The number of shares Granted is 10,582,700. The number of shares Vested is (11,209,486). The number of shares Forfeited/canceled is (1,767,294). The number of shares Unvested as of December 31, 2021 is 16,894,713. The weighted-average grant-date fair value is $1,262.13, $1,949.16, $1,345.98, $1,425.48 and $1,626.13.',\n",
       " 'This image is a table showing the basic and diluted net income per share for the year ended December 31, 2020. The table has three classes: Class A, Class B, and Class C.\\nThe basic net income per share is computed by dividing the allocation of undistributed earnings by the number of shares used in per share computation. The basic net income per share for all three classes is $59.15.\\nThe diluted net income per share is computed by dividing the allocation of undistributed earnings by the number of shares used in per share computation. The allocation of undistributed earnings is computed by adding the allocation of undistributed earnings for basic computation, the reallocation of undistributed earnings as a result of conversion of Class B to Class A shares, and the reallocation of undistributed earnings. The number of shares used in per share computation is computed by adding the number of shares used in basic computation, the weighted-average effect of dilutive securities, the conversion of Class B to Class A shares outstanding, and the restricted stock units and other contingently issuable shares. The diluted net income per share for all three classes is $58.61.',\n",
       " 'This image shows a table of deferred tax assets and deferred tax liabilities as of December 31, 2020 and 2021. The deferred tax assets include accrued employee benefits, accruals and reserves not currently deductible, tax credits, net operating losses, operating leases, intangible assets, and other. Also listed is the valuation allowance, and the total deferred tax assets net of valuation allowance. The deferred tax liabilities include property and equipment net, net investment gains, operating leases, and other. The table also lists total deferred tax liabilities and net deferred tax assets (liabilities).',\n",
       " 'The table shows the number of shares purchased, average price paid per share, total number of shares purchased as part of publicly announced programs and approximate dollar value of shares that may yet be purchased under the program for Class A and Class C shares for the months of October, November, and December. The total number of class A shares purchased are 665, the total number of class C shares purchased are 4,007, and the total number of shares purchased as part of publicly announced programs are 4,672.',\n",
       " 'The graph compares the cumulative five-year total return for Alphabet Inc. Class A common stock, the S&P 500 Index, the NASDAQ Composite Index, and the RDG Internet Composite Index.',\n",
       " 'The image is a graph comparing the cumulative 5-year total return of Alphabet Inc. Class A common stock, S&P 500, NASDAQ Composite Index, and RDG Internet Composite Index.',\n",
       " 'This image shows a financial table for the years ending December 31, 2020, and 2021. The table includes data on consolidated revenues, changes in consolidated constant currency revenues, the cost of revenues, operating expenses, operating income, operating margin, other income, net income, diluted EPS, and the number of employees.',\n",
       " 'Here is a summary of the image:\\nThe image contains a table showing the percentages for United States, EMEA, APAC, and Other Americas, from the year ended December 31, 2020 and 2021.\\n*   For the United States: 47% in 2020 and 46% in 2021\\n*   For EMEA: 30% in 2020 and 31% in 2021\\n*   For APAC: 18% in both 2020 and 2021\\n*   For Other Americas: 5% in both 2020 and 2021',\n",
       " 'This table shows the revenues for the years ended December 31, 2020 and 2021, with the percentage change from the prior year. It includes revenue information for EMEA, APAC, Other Americas, and the United States. Also includes hedging gains/losses, total revenue, revenue excluding hedging effect, exchange rate effect, and total constant currency revenues.',\n",
       " 'Here is a summary of the image:\\nThe image contains a table with data for the year ended December 31, 2020 and 2021. The elements of the table are:\\nTAC: $32,778 (2020), $45,566 (2021)\\nOther cost of revenues: $51,954 (2020), $65,373 (2021)\\nTotal cost of revenues: $84,732 (2020), $110,939 (2021)\\nTotal cost of revenues as a percentage of revenues: 46.4% (2020), 43.1% (2021)',\n",
       " 'The image shows the table of Unvested Restricted Stock Units.\\nThe table contains the number of shares and weighted-average grant-date fair value.\\nThe unvested number of shares as of December 31, 2020 is 19,288,793.\\nThe number of shares granted is 10,582,700.\\nThe number of shares vested is (11,209,486).\\nThe number of shares forfeited/canceled is (1,767,294).\\nThe unvested number of shares as of December 31, 2021 is 16,894,713.',\n",
       " 'The table shows the total number of Class A Shares purchased, total number of Class C Shares purchased, average price paid per Class A share, average price paid per Class C share, total number of shares purchased as part of publicly announced programs, and approximate dollar value of shares that may yet be purchased under the program for the periods October 1-31, November 1-30, December 1-31, and the total. For October, the number of Class A Shares is 126, Class C Shares is 1,445, the Class A price is $2,812.76, the Class C price is $2,794.72, the total number of shares is 1,571, and the approximate dollar value is $26,450. For November, the number of Class A Shares is 289, Class C Shares is 1,393, the Class A price is $2,943.97, the Class C price is $2,956.73, the total number of shares is 1,682, and the approximate dollar value is $21,479. For December, the number of Class A Shares is 250, Class C Shares is 1,169, the Class A price is $2,880.79, the Class C price is $2,898.56, the total number of shares is 1,419, and the approximate dollar value is $17,371. The totals are, for the number of Class A Shares is 665, Class C Shares is 4,007, and the total number of shares is 4,672.']"
      ]
     },
     "execution_count": 52,
     "metadata": {},
     "output_type": "execute_result"
    }
   ],
   "source": [
    "image_summaries"
   ]
  },
  {
   "cell_type": "code",
   "execution_count": 53,
   "id": "aff98129",
   "metadata": {},
   "outputs": [],
   "source": [
    "from google.cloud import aiplatform\n",
    "# Environment variables and configuration\n",
    "PROJECT_ID = \"hacker2025-team-5-dev\"\n",
    "BUCKET_NAME = \"example_bucket_airbus\"  # Replace with your GCS bucket name\n",
    "LOCATION = \"europe-west4\"\n",
    "GCS_BUCKET_URI = f\"gs://{BUCKET_NAME}\"\n",
    "\n",
    "aiplatform.init(project=PROJECT_ID, location=LOCATION, staging_bucket=GCS_BUCKET_URI)"
   ]
  },
  {
   "cell_type": "code",
   "execution_count": 54,
   "id": "31070a8f",
   "metadata": {},
   "outputs": [
    {
     "name": "stdout",
     "output_type": "stream",
     "text": [
      "Creating MatchingEngineIndex\n",
      "Create MatchingEngineIndex backing LRO: projects/246245275285/locations/europe-west4/indexes/673235367733755904/operations/7558779739561787392\n",
      "MatchingEngineIndex created. Resource name: projects/246245275285/locations/europe-west4/indexes/673235367733755904\n",
      "To use this MatchingEngineIndex in another session:\n",
      "index = aiplatform.MatchingEngineIndex('projects/246245275285/locations/europe-west4/indexes/673235367733755904')\n"
     ]
    }
   ],
   "source": [
    "\n",
    "# https://cloud.google.com/vertex-ai/generative-ai/docs/model-reference/text-embeddings\n",
    "DIMENSIONS = 768  # Dimensions output from text-embedding-005\n",
    "\n",
    "index = aiplatform.MatchingEngineIndex.create_tree_ah_index(\n",
    "    display_name=\"mm_rag_langchain_index\",\n",
    "    dimensions=DIMENSIONS,\n",
    "    approximate_neighbors_count=150,\n",
    "    leaf_node_embedding_count=500,\n",
    "    leaf_nodes_to_search_percent=7,\n",
    "    description=\"Multimodal RAG LangChain Index\",\n",
    "    index_update_method=\"STREAM_UPDATE\",\n",
    ")\n",
    "     "
   ]
  },
  {
   "cell_type": "code",
   "execution_count": 55,
   "id": "eaa6bb10",
   "metadata": {},
   "outputs": [
    {
     "name": "stdout",
     "output_type": "stream",
     "text": [
      "Creating MatchingEngineIndexEndpoint\n",
      "Create MatchingEngineIndexEndpoint backing LRO: projects/246245275285/locations/europe-west4/indexEndpoints/8378120273978720256/operations/1366330251927355392\n",
      "MatchingEngineIndexEndpoint created. Resource name: projects/246245275285/locations/europe-west4/indexEndpoints/8378120273978720256\n",
      "To use this MatchingEngineIndexEndpoint in another session:\n",
      "index_endpoint = aiplatform.MatchingEngineIndexEndpoint('projects/246245275285/locations/europe-west4/indexEndpoints/8378120273978720256')\n"
     ]
    }
   ],
   "source": [
    "\n",
    "DEPLOYED_INDEX_ID = \"mm_rag_langchain_index_endpoint\"\n",
    "\n",
    "index_endpoint = aiplatform.MatchingEngineIndexEndpoint.create(\n",
    "    display_name=DEPLOYED_INDEX_ID,\n",
    "    description=\"Multimodal RAG LangChain Index Endpoint\",\n",
    "    public_endpoint_enabled=True,\n",
    ")"
   ]
  },
  {
   "cell_type": "code",
   "execution_count": 56,
   "id": "5fcf7437",
   "metadata": {},
   "outputs": [
    {
     "name": "stdout",
     "output_type": "stream",
     "text": [
      "Deploying index MatchingEngineIndexEndpoint index_endpoint: projects/246245275285/locations/europe-west4/indexEndpoints/8378120273978720256\n",
      "Deploy index MatchingEngineIndexEndpoint index_endpoint backing LRO: projects/246245275285/locations/europe-west4/indexEndpoints/8378120273978720256/operations/2478156409934446592\n",
      "MatchingEngineIndexEndpoint index_endpoint Deployed index. Resource name: projects/246245275285/locations/europe-west4/indexEndpoints/8378120273978720256\n"
     ]
    },
    {
     "data": {
      "text/plain": [
       "[id: \"mm_rag_langchain_deployed_index\"\n",
       "index: \"projects/246245275285/locations/europe-west4/indexes/673235367733755904\"\n",
       "create_time {\n",
       "  seconds: 1750422958\n",
       "  nanos: 177242000\n",
       "}\n",
       "index_sync_time {\n",
       "  seconds: 1750424474\n",
       "  nanos: 403105000\n",
       "}\n",
       "automatic_resources {\n",
       "  min_replica_count: 2\n",
       "  max_replica_count: 2\n",
       "}\n",
       "deployment_group: \"default\"\n",
       "]"
      ]
     },
     "execution_count": 56,
     "metadata": {},
     "output_type": "execute_result"
    }
   ],
   "source": [
    "\n",
    "index_endpoint = index_endpoint.deploy_index(\n",
    "    index=index, deployed_index_id=\"mm_rag_langchain_deployed_index\"\n",
    ")\n",
    "index_endpoint.deployed_indexes"
   ]
  },
  {
   "cell_type": "code",
   "execution_count": 57,
   "id": "ed61b7bd",
   "metadata": {},
   "outputs": [],
   "source": [
    "\n",
    "\n",
    "# The vectorstore to use to index the summaries\n",
    "vectorstore = VectorSearchVectorStore.from_components(\n",
    "    project_id=PROJECT_ID,\n",
    "    region=LOCATION,\n",
    "    gcs_bucket_name=BUCKET_NAME,\n",
    "    index_id=index.name,\n",
    "    endpoint_id=index_endpoint.name,\n",
    "    embedding=VertexAIEmbeddings(model_name=EMBEDDING_MODEL_NAME),\n",
    "    stream_update=True,\n",
    ")"
   ]
  },
  {
   "cell_type": "code",
   "execution_count": 58,
   "id": "edebc073",
   "metadata": {},
   "outputs": [],
   "source": [
    "\n",
    "from langchain.retrievers.multi_vector import MultiVectorRetriever\n",
    "from langchain.storage import InMemoryStore\n",
    "\n",
    "docstore = InMemoryStore()\n",
    "\n",
    "id_key = \"doc_id\"\n",
    "# Create the multi-vector retriever\n",
    "retriever_multi_vector_img = MultiVectorRetriever(\n",
    "    vectorstore=vectorstore,\n",
    "    docstore=docstore,\n",
    "    id_key=id_key,\n",
    ")"
   ]
  },
  {
   "cell_type": "code",
   "execution_count": 59,
   "id": "6d5453e4",
   "metadata": {},
   "outputs": [
    {
     "name": "stdout",
     "output_type": "stream",
     "text": [
      "Upserting datapoints MatchingEngineIndex index: projects/246245275285/locations/europe-west4/indexes/673235367733755904\n",
      "MatchingEngineIndex index Upserted datapoints. Resource name: projects/246245275285/locations/europe-west4/indexes/673235367733755904\n"
     ]
    },
    {
     "data": {
      "text/plain": [
       "['ee73ecdb-9ab7-40be-b6a6-e69d346861cf',\n",
       " '35a1cba5-e3a2-4356-8e3e-634626dfbc99',\n",
       " '013fec95-9c08-4fc6-b1be-a15b06073472',\n",
       " '912f3b21-1324-428e-bdcc-6f9d05b8d739',\n",
       " '51040877-27bb-425e-8c3a-548721d0e601',\n",
       " 'ab4f0957-6e67-4bac-b075-ff4ba9686a54',\n",
       " '781c50b4-d91c-460c-a846-1c5c9af4ca73',\n",
       " 'a5f24ee0-ba12-4444-ab16-4ccf1ef4349e',\n",
       " '48620af8-361d-4a1a-bef4-38c5ca70ade6',\n",
       " 'a6527404-7cae-4b01-a12d-6f3509e12966',\n",
       " '489836c4-4901-4559-9a9a-9a9c1a5869c9',\n",
       " '3df51165-1677-4bf0-9e5f-d42b7e1d3d13',\n",
       " '8c6e0fbf-40ab-489f-aa2a-52f7e3dd74a9',\n",
       " 'b8389b20-fb7f-4db8-8a86-f77ddb2382ff']"
      ]
     },
     "execution_count": 59,
     "metadata": {},
     "output_type": "execute_result"
    }
   ],
   "source": [
    "\n",
    "from langchain_core.documents import Document\n",
    "import uuid\n",
    "\n",
    "# Raw Document Contents\n",
    "doc_contents = texts + tables + img_base64_list\n",
    "\n",
    "doc_ids = [str(uuid.uuid4()) for _ in doc_contents]\n",
    "summary_docs = [\n",
    "    Document(page_content=s, metadata={id_key: doc_ids[i]})\n",
    "    for i, s in enumerate(text_summaries + table_summaries + image_summaries)\n",
    "]\n",
    "\n",
    "retriever_multi_vector_img.docstore.mset(list(zip(doc_ids, doc_contents)))\n",
    "\n",
    "# If using Vertex AI Vector Search, this will take a while to complete.\n",
    "# You can cancel this cell and continue later.\n",
    "retriever_multi_vector_img.vectorstore.add_documents(summary_docs)"
   ]
  },
  {
   "cell_type": "code",
   "execution_count": 60,
   "id": "5ce677c3",
   "metadata": {},
   "outputs": [],
   "source": [
    "import re\n",
    "import base64\n",
    "\n",
    "def looks_like_base64(sb):\n",
    "    \"\"\"Check if the string looks like base64\"\"\"\n",
    "    return re.match(\"^[A-Za-z0-9+/]+[=]{0,2}$\", sb) is not None\n",
    "\n",
    "\n",
    "def is_image_data(b64data):\n",
    "    \"\"\"\n",
    "    Check if the base64 data is an image by looking at the start of the data\n",
    "    \"\"\"\n",
    "    image_signatures = {\n",
    "        b\"\\xff\\xd8\\xff\": \"jpg\",\n",
    "        b\"\\x89\\x50\\x4e\\x47\\x0d\\x0a\\x1a\\x0a\": \"png\",\n",
    "        b\"\\x47\\x49\\x46\\x38\": \"gif\",\n",
    "        b\"\\x52\\x49\\x46\\x46\": \"webp\",\n",
    "    }\n",
    "    try:\n",
    "        header = base64.b64decode(b64data)[:8]  # Decode and get the first 8 bytes\n",
    "        for sig, format in image_signatures.items():\n",
    "            if header.startswith(sig):\n",
    "                return True\n",
    "        return False\n",
    "    except Exception:\n",
    "        return False\n",
    "\n",
    "\n",
    "def split_image_text_types(docs):\n",
    "    \"\"\"\n",
    "    Split base64-encoded images and texts\n",
    "    \"\"\"\n",
    "    b64_images = []\n",
    "    texts = []\n",
    "    for doc in docs:\n",
    "        # Check if the document is of type Document and extract page_content if so\n",
    "        if isinstance(doc, Document):\n",
    "            doc = doc.page_content\n",
    "        if looks_like_base64(doc) and is_image_data(doc):\n",
    "            b64_images.append(doc)\n",
    "        else:\n",
    "            texts.append(doc)\n",
    "    return {\"images\": b64_images, \"texts\": texts}\n",
    "\n",
    "\n",
    "def img_prompt_func(data_dict):\n",
    "    \"\"\"\n",
    "    Join the context into a single string\n",
    "    \"\"\"\n",
    "    formatted_texts = \"\\n\".join(data_dict[\"context\"][\"texts\"])\n",
    "    messages = [\n",
    "        {\n",
    "            \"type\": \"text\",\n",
    "            \"text\": (\n",
    "                \"You are financial analyst tasking with providing investment advice.\\n\"\n",
    "                \"You will be given a mix of text, tables, and image(s) usually of charts or graphs.\\n\"\n",
    "                \"Use this information to provide investment advice related to the user's question. \\n\"\n",
    "                f\"User-provided question: {data_dict['question']}\\n\\n\"\n",
    "                \"Text and / or tables:\\n\"\n",
    "                f\"{formatted_texts}\"\n",
    "            ),\n",
    "        }\n",
    "    ]\n",
    "\n",
    "    # Adding image(s) to the messages if present\n",
    "    if data_dict[\"context\"][\"images\"]:\n",
    "        for image in data_dict[\"context\"][\"images\"]:\n",
    "            messages.append(\n",
    "                {\n",
    "                    \"type\": \"image_url\",\n",
    "                    \"image_url\": {\"url\": f\"data:image/jpeg;base64,{image}\"},\n",
    "                }\n",
    "            )\n",
    "    return [HumanMessage(content=messages)]\n",
    "\n",
    "\n",
    "# Create RAG chain\n",
    "chain_multimodal_rag = (\n",
    "    {\n",
    "        \"context\": retriever_multi_vector_img | RunnableLambda(split_image_text_types),\n",
    "        \"question\": RunnablePassthrough(),\n",
    "    }\n",
    "    | RunnableLambda(img_prompt_func)\n",
    "    | ChatVertexAI(\n",
    "        temperature=0,\n",
    "        model_name=MODEL_NAME,\n",
    "        max_output_tokens=TOKEN_LIMIT,\n",
    "    )  # Multi-modal LLM\n",
    "    | StrOutputParser()\n",
    ")\n",
    "     "
   ]
  },
  {
   "cell_type": "code",
   "execution_count": 61,
   "id": "1460a142",
   "metadata": {},
   "outputs": [],
   "source": [
    "\n",
    "query = \"\"\"\n",
    " - What are the critical difference between various graphs for Class A Share?\n",
    " - Which index best matches Class A share performance closely where Google is not already a part? Explain the reasoning.\n",
    " - Identify key chart patterns for Google Class A shares.\n",
    " - What is cost of revenues, operating expenses and net income for 2020. Do mention the percentage change\n",
    " - What was the effect of Covid in the 2020 financial year?\n",
    " - What are the total revenues for APAC and USA for 2021?\n",
    " - What is deferred income taxes?\n",
    " - How do you compute net income per share?\n",
    " - What drove percentage change in the consolidated revenue and cost of revenue for the year 2021 and was there any effect of Covid?\n",
    " - What is the cause of 41% increase in revenue from 2020 to 2021 and how much is dollar change?\n",
    "\"\"\"\n"
   ]
  },
  {
   "cell_type": "code",
   "execution_count": 63,
   "id": "ec21b399",
   "metadata": {},
   "outputs": [
    {
     "name": "stdout",
     "output_type": "stream",
     "text": [
      "['source: https://abc.xyz/assets/investor/static/pdf/20220202_alphabet_10K.pdf source: https://abc.xyz/assets/9a/bd/838c917c4b4ab21f94e84c3c2c65/goog-10-k-q4-2022.pdf Note: Tables and figures are converted to images for demonstration purposes.\\n\\nMARKET FOR REGISTRANT’S COMMON EQUITY, RELATED STOCKHOLDER MATTERS AND ISSUER PURCHASES OF EQUITY SECURITIES\\n\\nAs of October 2, 2015, Alphabet Inc. became the successor issuer of Google Inc. pursuant to Rule 12g-3(a) under the Exchange Act. Our Class A common stock has been listed on the Nasdaq Global Select Market under the symbol “GOOG” since August 19, 2004 and under the symbol \"GOOGL\" since April 3, 2014. Prior to August 19, 2004, there was no public market for our stock. Our Class B common stock is neither listed nor traded. Our Class C capital stock has been listed on the Nasdaq Global Select Market under the symbol “GOOG” since April 3, 2014.\\n\\nHolders of Record\\n\\nAs of December 31, 2021, there were approximately 4,907 and 1,733 stockholders of record of our Class A common stock and Class C capital stock, respectively. Because many of our shares of Class A common stock and Class C capital stock are held by brokers and other institutions on behalf of stockholders, we are unable to estimate the total number of stockholders represented by these record holders. As of December 31, 2021, there were approximately 64 stockholders of record of our Class B common stock.\\n\\nDividend Policy\\n\\nWe have never declared or paid any cash dividend on our common or capital stock. The primary use of capital continues to be to invest for the long-term growth of the business. We regularly evaluate our cash and capital structure, including the size, pace, and form of capital return to stockholders.\\n\\nIssuer Purchases of Equity Securities\\n\\nThe following table presents information with respect to Alphabet\\'s repurchases of Class A common stock and Class C capital stock during the quarter ended December 31, 2021:\\n\\nTotal Number of Approxi Shares lar Value of Purchased Shares that Total Number of Total Numberof A\\\\ Price Ai Price Partof Publicly Yet Be Purchased A Shares Inder Purchased Purchased ClassA Share Class C Share Programs Period (in thousands) \"(in thousands) \"’ bl _*___{inthousands)\" __(in millions) _ October 1 - 31 126 1,445 $ 2,812.76 $ 2,794.72 1.571 § 26,450 November 1 - 30 289 1,393 $ 2,943.97 $ 2,956.73 1,682 $ 21,479 December 1 - 31 250 1,169 $ 2,880.79 $ 2,898.56 1,419 $ 17,371 Total 665 4,007 4,672 () The repurchases are being executed from time to time, subject to general business and market conditions and other investment opportunities, through open market purchases or privately negotiated transactions, including through Rule 10b5-1 plans. The repurchase program does not have an expiration date. See Note 11 of the Notes to Consolidated Financial Statements included in Item 8 of this Annual Report on Form 10-K for additional information related to share repurchases. @ Average price paid per share includes costs associated with the repurchases.\\n\\nTotal Number of Approxi Shares lar Value of Purchased Shares that Total Number of Total Numberof A\\\\ Price Ai Price Partof Publicly Yet Be Purchased A Shares Inder Purchased Purchased ClassA Share Class C Share Programs Period (in thousands) \"(in thousands) \"’ bl _*___{inthousands)\" __(in millions) _ October 1 - 31 126 1,445 $ 2,812.76 $ 2,794.72 1.571 § 26,450 November 1 - 30 289 1,393 $ 2,943.97 $ 2,956.73 1,682 $ 21,479 December 1 - 31 250 1,169 $ 2,880.79 $ 2,898.56 1,419 $ 17,371 Total 665 4,007 4,672', 'Deferred Income Taxes\\n\\nDeferred income taxes reflect the net effects of temporary differences between the carrying amounts of assets and liabilities for financial reporting purposes and the amounts used for income tax purposes. Significant components of our deferred tax assets and liabilities were as follows (in millions):\\n\\nAs of December 31, 2020 2021 Deferred tax assets: Accrued employee benefits $ 580 $ 549 Accruals and reserves not currently deductible 1,049 1,816 Tax credits 3,723 5,179 Net operating losses 1,085 1,790 Operating leases 2,620 2,503 Intangible assets 1,525 2,034 Other 981 925 Total deferred tax assets 11,563 14,796 Valuation allowance (4,823) (7,129) Total deferred tax assets net of valuation allowance 6,740 7,667 Deferred tax liabilities: Property and equipment, net (3,382) (5,237) Net investment gains (1,901) (3,229) Operating leases (2,354) (2,228) Other (1,580) (946) Total deferred tax liabilities (9,217) (11,640) Net deferred tax assets (liabilities) $ (2,477) $ (3,973)\\n\\nAs of December 31, 2021, our federal, state, and foreign net operating loss carryforwards for income tax purposes were approximately $5.6 billion, $4.6 billion, and $1.7 billion respectively. If not utilized, the federal net operating loss carryforwards will begin to expire in 2023, foreign net operating loss carryforwards will begin to expire in 2025 and the state net operating loss carryforwards will begin to expire in 2028. It is more likely than not that certain\\n\\nnet operating loss carryforwards will not be realized; therefore, we have recorded a valuation allowance against them. The net operating loss carryforwards are subject to various annual limitations under the tax laws of the different jurisdictions. As of December 31, 2021, our California R&D carryforwards for income tax purposes were approximately $5.0 billion that can be carried over indefinitely. We believe the state tax credit is not likely to be realized. As of December 31, 2021, our investment tax credit carryforwards for state income tax purposes were approximately $700 million and will begin to expire in 2025. We use the flow-through method of accounting for investment tax credits. We believe this tax credit is not likely to be realized. As of December 31, 2021, we maintained a valuation allowance with respect to California deferred tax assets, certain federal net operating losses, certain state tax credits, net deferred tax assets relating to certain Other Bets, and certain foreign net operating losses that we believe are not likely to be realized.', 'Year Ended December 31, 2020 Class A Class B Class C Basic net income per share: Numerator Allocation of undistributed earnings $ 17,733 $ 2,732 $ 19,804 Denominator Number of shares used in per share computation 299,815 46,182 334,819 Basic net income per share $ 59.15 $ 59.15 $ 59.15 Diluted net income per share: Numerator Allocation of undistributed earnings for basic computation $ 17,733 $ 2,732 $ 19,804 Reallocation of undistributed earnings as a result of conversion of Class B to Class A shares 2,732 0 0 Allocation of undistributed earnings $ 20,285 $ 2707 $ 19,984 Denominator Number of shares used in basic computation 299,815 46,182 334,819 Weighted-average effect of dilutive securities Add: Conversion of Class B to Class A shares outstanding 46,182 0 0 Restricted stock units and other contingently issuable shares 87 o 6,125 Number of shares used in per share computation 346,084 46,182 340,944 Diluted net income per share $ 58.61 $ 58.61 $ 58.61\\n\\nStock-Based Award Activities\\n\\nThe following table summarizes the activities for unvested Alphabet RSUs for the year ended December 31, 2021: Unvested Restricted Stock Units Weighted- Number of Grant Date Shares Fair Value Unvested as of December 31, 2020 19,288,793 $ 1,262.13 Granted 10,582,700 $ 1,949.16 Vested (11,209,486) $ 1,345.98 Forfeited/canceled (1,767,294) $ 1,425.48 Unvested as of December 31, 2021 16,894,713 $ 1,626.13\\n\\nUnvested Restricted Stock Units Weighted- Number of Grant Date Shares Fair Value Unvested as of December 31, 2020 19,288,793 $ 1,262.13 Granted 10,582,700 $ 1,949.16 Vested (11,209,486) $ 1,345.98 Forfeited/canceled (1,767,294) $ 1,425.48 Unvested as of December 31, 2021 16,894,713 $ 1,626.13\\n\\nThe weighted-average grant-date fair value of RSUs granted during the years ended December 31, 2019 and 2020 was $1,092.36 and $1,407.97, respectively. Total fair value of RSUs, as of their respective vesting dates, during the years ended December 31, 2019, 2020, and 2021 were $15.2 billion, $17.8 billion, and $28.8 billion, respectively. As of December 31, 2021, there was $25.8 billion of unrecognized compensation cost related to unvested employee RSUs. This amount is expected to be recognized over a weighted-average period of 2.5 years. 401(k) Plans We have two 401(k) Savings Plans that qualify as deferred\\n\\nsalary arrangements under Section 401(k) of the Internal Revenue Code. Under these 401(k) Plans, matching contributions are based upon the amount of the employees’ contributions subject to certain limitations. We recognized expense of approximately $724 million, $855 million, and $916 million for the years ended December 31, 2019, 2020, and 2021, respectively. Note 14. Income Taxes Income from continuing operations before income taxes consisted of the following (in millions):']\n"
     ]
    },
    {
     "data": {
      "image/jpeg": "[encoded data removed]",
      "text/plain": [
       "<IPython.core.display.Image object>"
      ]
     },
     "metadata": {},
     "output_type": "display_data"
    }
   ],
   "source": [
    "from IPython.display import Image, Markdown, display\n",
    "\n",
    "# List of source documents\n",
    "docs = retriever_multi_vector_img.get_relevant_documents(query, limit=10)\n",
    "\n",
    "source_docs = split_image_text_types(docs)\n",
    "\n",
    "print(source_docs[\"texts\"])\n",
    "\n",
    "for i in source_docs[\"images\"]:\n",
    "    display(Image(base64.b64decode(i)))"
   ]
  },
  {
   "cell_type": "code",
   "execution_count": 65,
   "id": "7a8ce187",
   "metadata": {},
   "outputs": [
    {
     "data": {
      "text/markdown": [
       "Okay, let's break down the information and address your questions regarding Google's (Alphabet's) Class A shares.\n",
       "\n",
       "**1. Critical Differences Between Various Graphs for Class A Share**\n",
       "\n",
       "Unfortunately, you haven't provided any graphs. If you can provide the graphs, I can analyze them and point out the key differences (e.g., different time periods, different metrics being displayed, different scales, etc.).\n",
       "\n",
       "**2. Which index best matches Class A share performance closely where Google is not already a part? Explain the reasoning.**\n",
       "\n",
       "To determine which index best matches Class A share performance (excluding Google), you would typically look for indices that have similar sector weightings and market capitalization focus. Since Google is a technology giant, you'd want to avoid tech-heavy indices. A broad market index with a value or blend focus, excluding mega-cap tech companies, might be a reasonable starting point for comparison. Some examples could be:\n",
       "\n",
       "*   **S&P 400 MidCap Index:** This index represents mid-sized U.S. companies. It would exclude the mega-cap nature of Google, but still provide a view of the overall U.S. market.\n",
       "*   **Russell 2000:** This index tracks small-cap companies. While Google is obviously not a small-cap, the Russell 2000's performance can sometimes reflect broader economic trends and investor sentiment that might also influence Google's stock.\n",
       "*   **Dow Jones Industrial Average (DJIA):** The DJIA is a price-weighted index of 30 large, publicly owned companies trading in the United States. It is less tech-heavy than the Nasdaq 100.\n",
       "\n",
       "To determine the *best* match, you would need to:\n",
       "\n",
       "1.  **Obtain historical price data** for GOOGL (Class A shares) and the candidate indices.\n",
       "2.  **Calculate correlation coefficients:** This will quantify how closely the returns of GOOGL move in relation to the returns of each index.\n",
       "3.  **Consider Beta:** Beta measures a stock's volatility relative to the market. A beta close to 1 suggests similar volatility.\n",
       "4.  **Visually compare charts:** Plot the performance of GOOGL and the indices over the same time period to see how closely they track each other.\n",
       "\n",
       "**3. Identify Key Chart Patterns for Google Class A Shares.**\n",
       "\n",
       "As you have not provided any charts, I am unable to answer this question.\n",
       "\n",
       "**4. What is cost of revenues, operating expenses and net income for 2020. Do mention the percentage change**\n",
       "\n",
       "I am unable to answer this question as the information is not available in the provided text.\n",
       "\n",
       "**5. What was the effect of Covid in the 2020 financial year?**\n",
       "\n",
       "I am unable to answer this question as the information is not available in the provided text.\n",
       "\n",
       "**6. What are the total revenues for APAC and USA for 2021?**\n",
       "\n",
       "I am unable to answer this question as the information is not available in the provided text.\n",
       "\n",
       "**7. What is deferred income taxes?**\n",
       "\n",
       "Deferred income taxes arise from temporary differences between the accounting (financial reporting) and tax treatment of certain assets and liabilities. In simpler terms:\n",
       "\n",
       "*   **Accounting Income vs. Taxable Income:** Sometimes, a company recognizes revenue or expenses in its financial statements in a different period than when they are recognized for tax purposes.\n",
       "*   **Temporary Differences:** These timing differences create deferred tax assets (future tax benefits) or deferred tax liabilities (future tax obligations).\n",
       "*   **Deferred Tax Assets:** These arise when a company has paid more taxes than it owes based on its accounting income. This could be due to accelerated depreciation for tax purposes or recognizing expenses earlier for accounting purposes.\n",
       "*   **Deferred Tax Liabilities:** These arise when a company has paid less taxes than it owes based on its accounting income. This could be due to recognizing revenue earlier for accounting purposes than for tax purposes.\n",
       "\n",
       "The table you provided shows Alphabet's deferred tax assets and liabilities as of December 31, 2020 and 2021. For example, as of December 31, 2021, Alphabet had net deferred tax *liabilities* of $3,973 million. This means that, in the future, they expect to pay more in taxes than they are currently expensing for accounting purposes due to these temporary differences.\n",
       "\n",
       "**8. How do you compute net income per share?**\n",
       "\n",
       "The document provides the following information for the year ended December 31, 2020:\n",
       "\n",
       "*   **Basic Net Income Per Share:**  (Net Income Available to Common Shareholders) / (Weighted Average Number of Common Shares Outstanding)\n",
       "    *   For Class A: $17,733 / 299,815 = $59.15\n",
       "*   **Diluted Net Income Per Share:** This calculation considers the potential dilution that could occur if stock options, warrants, or convertible securities were exercised.\n",
       "    *   For Class A: $20,285 / 346,084 = $58.61\n",
       "\n",
       "**9. What drove percentage change in the consolidated revenue and cost of revenue for the year 2021 and was there any effect of Covid?**\n",
       "\n",
       "I am unable to answer this question as the information is not available in the provided text.\n",
       "\n",
       "**10. What is the cause of 41% increase in revenue from 2020 to 2021 and how much is dollar change?**\n",
       "\n",
       "I am unable to answer this question as the information is not available in the provided text.\n",
       "\n",
       "To provide more specific and helpful advice, please provide the charts you are referring to and the relevant financial statements.\n"
      ],
      "text/plain": [
       "<IPython.core.display.Markdown object>"
      ]
     },
     "execution_count": 65,
     "metadata": {},
     "output_type": "execute_result"
    }
   ],
   "source": [
    "result = chain_multimodal_rag.invoke(query)\n",
    "\n",
    "Markdown(result)"
   ]
  },
  {
   "cell_type": "markdown",
   "id": "8bb1798c",
   "metadata": {},
   "source": [
    "Add 787 document and test"
   ]
  },
  {
   "cell_type": "code",
   "execution_count": 68,
   "id": "8bbd276f",
   "metadata": {},
   "outputs": [],
   "source": [
    "pdf_folder_path = \"sample_figures\"\n",
    "pdf_file_name = \"787_chapter_2_sample.pdf\"\n",
    "\n",
    "# Extract images, tables, and chunk text from a PDF file.\n",
    "raw_pdf_elements = partition_pdf(\n",
    "    filename=pdf_file_name,                                # mandatory\n",
    "    strategy=\"hi_res\",                                     # mandatory to use ``hi_res`` strategy\n",
    "    extract_images_in_pdf=True,                            # mandatory to set as ``True``\n",
    "    extract_image_block_types=[\"Image\", \"Table\"],          # optional\n",
    "    extract_image_block_to_payload=False,                  # optional\n",
    "    infer_table_structure=True,\n",
    "    chunking_strategy=\"by_title\",\n",
    "    max_characters=4000,\n",
    "    new_after_n_chars=3800,\n",
    "    combine_text_under_n_chars=2000,\n",
    "    analyzed_image_output_dir_path=pdf_folder_path,\n",
    ")"
   ]
  },
  {
   "cell_type": "code",
   "execution_count": 69,
   "id": "a8d90f1a",
   "metadata": {},
   "outputs": [],
   "source": [
    "# Categorize extracted elements from a PDF into tables and texts.\n",
    "tables = []\n",
    "texts = []\n",
    "for element in raw_pdf_elements:\n",
    "    if \"unstructured.documents.elements.Table\" in str(type(element)):\n",
    "        tables.append(str(element))\n",
    "    elif \"unstructured.documents.elements.CompositeElement\" in str(type(element)):\n",
    "        texts.append(str(element))\n",
    "\n",
    "# Optional: Enforce a specific token size for texts\n",
    "text_splitter = CharacterTextSplitter.from_tiktoken_encoder(\n",
    "    chunk_size=10000, chunk_overlap=0\n",
    ")\n",
    "joined_texts = \" \".join(texts)\n",
    "texts_4k_token = text_splitter.split_text(joined_texts)"
   ]
  },
  {
   "cell_type": "code",
   "execution_count": 71,
   "id": "b3d100fa",
   "metadata": {},
   "outputs": [],
   "source": [
    "# Get text, table summaries\n",
    "text_summaries, table_summaries = generate_text_summaries(\n",
    "    texts_4k_token, tables, summarize_texts=True\n",
    ")"
   ]
  },
  {
   "cell_type": "code",
   "execution_count": 85,
   "id": "2ad8e854",
   "metadata": {},
   "outputs": [],
   "source": [
    "# Image summaries\n",
    "img_base64_list, image_summaries = generate_img_summaries(\"figures/\")"
   ]
  },
  {
   "cell_type": "code",
   "execution_count": 86,
   "id": "1c45ef04",
   "metadata": {},
   "outputs": [
    {
     "name": "stdout",
     "output_type": "stream",
     "text": [
      "Upserting datapoints MatchingEngineIndex index: projects/246245275285/locations/europe-west4/indexes/673235367733755904\n",
      "MatchingEngineIndex index Upserted datapoints. Resource name: projects/246245275285/locations/europe-west4/indexes/673235367733755904\n"
     ]
    },
    {
     "data": {
      "text/plain": [
       "['f05d4435-6678-4b77-ac0f-4bae61ebb1be',\n",
       " 'd0041afa-eaa4-4b48-936f-1473791bb7c8',\n",
       " '491bd75f-7708-486e-aec6-623d4a4be841',\n",
       " '61ff4e04-277e-40ce-810a-b5ff9114043f',\n",
       " '10c295fc-b9c9-4c64-b24a-a271362dff29',\n",
       " '96f7dca3-cc16-46dc-94a0-d32052fb13ec',\n",
       " '2ecc8b89-de3f-4c9b-b99f-6b8190dc54ab',\n",
       " '8627fcd0-877b-4e71-b0fd-d838e1562e8a',\n",
       " 'c31716a2-fbef-4bff-b6b4-4fe723aa25a1',\n",
       " '1becc86b-f552-4935-9d0f-e7a95b036242',\n",
       " 'cd2f7d14-99fa-40ad-b72b-2ac4d9246b12',\n",
       " '488a047d-cda7-493c-afae-0de72d6968e8',\n",
       " '4d593a12-33f8-411d-a933-77a60c6e1493',\n",
       " '51cd887d-ef92-4d21-9b23-28759f19a396',\n",
       " '8825f612-6ac2-4777-9a93-9cee0ebb809f',\n",
       " 'ba45fcb3-526e-43fd-b52b-755247742679',\n",
       " '5b76670a-5191-4bcf-9998-58a51b18ceea',\n",
       " '7d4223e9-a080-4779-b05f-1a15ce19069c']"
      ]
     },
     "execution_count": 86,
     "metadata": {},
     "output_type": "execute_result"
    }
   ],
   "source": [
    "\n",
    "# Raw Document Contents\n",
    "doc_contents = texts + tables + img_base64_list\n",
    "\n",
    "doc_ids = [str(uuid.uuid4()) for _ in doc_contents]\n",
    "summary_docs = [\n",
    "    Document(page_content=s, metadata={id_key: doc_ids[i]})\n",
    "    for i, s in enumerate(text_summaries + table_summaries + image_summaries)\n",
    "]\n",
    "\n",
    "retriever_multi_vector_img.docstore.mset(list(zip(doc_ids, doc_contents)))\n",
    "\n",
    "# If using Vertex AI Vector Search, this will take a while to complete.\n",
    "# You can cancel this cell and continue later.\n",
    "retriever_multi_vector_img.vectorstore.add_documents(summary_docs)"
   ]
  },
  {
   "cell_type": "code",
   "execution_count": 87,
   "id": "33c257e3",
   "metadata": {},
   "outputs": [],
   "source": [
    "query = \"what is the Max Design Taxi Weight of aircraft 787-8 in Kilograms?\""
   ]
  },
  {
   "cell_type": "code",
   "execution_count": 88,
   "id": "e4ebde0d",
   "metadata": {},
   "outputs": [
    {
     "data": {
      "text/markdown": [
       "Based on the provided document, the Maximum Design Taxi Weight of the Boeing 787-8 is **228,383 kilograms**.\n"
      ],
      "text/plain": [
       "<IPython.core.display.Markdown object>"
      ]
     },
     "execution_count": 88,
     "metadata": {},
     "output_type": "execute_result"
    }
   ],
   "source": [
    "result = chain_multimodal_rag.invoke(query)\n",
    "\n",
    "Markdown(result)"
   ]
  },
  {
   "cell_type": "code",
   "execution_count": 91,
   "id": "1c333e78",
   "metadata": {},
   "outputs": [],
   "source": [
    "query = \"You have technical drawings of the general dimensions of what aircraft models? Please list them.\""
   ]
  },
  {
   "cell_type": "code",
   "execution_count": 92,
   "id": "60ab9367",
   "metadata": {},
   "outputs": [
    {
     "data": {
      "text/markdown": [
       "Based on the provided documents, I have technical drawings of the general dimensions for the following aircraft models:\n",
       "\n",
       "*   **787-8**\n",
       "*   **787-9**\n",
       "*   **787-10**"
      ],
      "text/plain": [
       "<IPython.core.display.Markdown object>"
      ]
     },
     "execution_count": 92,
     "metadata": {},
     "output_type": "execute_result"
    }
   ],
   "source": [
    "result = chain_multimodal_rag.invoke(query)\n",
    "\n",
    "Markdown(result)"
   ]
  },
  {
   "cell_type": "code",
   "execution_count": 93,
   "id": "63d1d8c6",
   "metadata": {},
   "outputs": [],
   "source": [
    "query = \"What are the general dimensions of the aircraft 787-8 in feet and inches?\""
   ]
  },
  {
   "cell_type": "code",
   "execution_count": 94,
   "id": "f3cd5abf",
   "metadata": {},
   "outputs": [
    {
     "data": {
      "text/markdown": [
       "Based on the provided images, here are the general dimensions of the Boeing 787-8 aircraft in feet and inches:\n",
       "\n",
       "*   **Wingspan:** 197 feet 3 inches\n",
       "*   **Length:** 186 feet\n",
       "*   **Height:** 55 feet 10 inches"
      ],
      "text/plain": [
       "<IPython.core.display.Markdown object>"
      ]
     },
     "execution_count": 94,
     "metadata": {},
     "output_type": "execute_result"
    }
   ],
   "source": [
    "result = chain_multimodal_rag.invoke(query)\n",
    "\n",
    "Markdown(result)"
   ]
  },
  {
   "cell_type": "code",
   "execution_count": 95,
   "id": "eec425e2",
   "metadata": {},
   "outputs": [
    {
     "name": "stderr",
     "output_type": "stream",
     "text": [
      "Retrying langchain_google_vertexai.chat_models._completion_with_retry.<locals>._completion_with_retry_inner in 4.0 seconds as it raised ServiceUnavailable: 503 GOAWAY received; Error code: 0; Debug Text: session_timed_out.\n"
     ]
    },
    {
     "data": {
      "text/markdown": [
       "Based on the provided documents, here are additional dimensions for the Boeing 787-8 aircraft, supplementing the weights, capacities, and volumes you already have:\n",
       "\n",
       "**From the images:**\n",
       "\n",
       "*   **Length:** 186 ft (56.7 m)\n",
       "*   **Wingspan:** 197 ft 3 in (60.12 m)\n",
       "*   **Height:** 55 ft 10 in (17.02 m)\n",
       "*   **Tail Height:** 55 ft 10 in (17.02 m)\n",
       "*   **Fuselage Width:** 19 ft 6 in (5.94 m)\n",
       "*   **Wheel Track:** 32 ft 2 in (9.80 m)\n",
       "\n",
       "**From the text:**\n",
       "\n",
       "*   Maximum Design Taxi Weight (MTW)\n",
       "*   Maximum Design Takeoff Weight (MTOW)\n",
       "*   Maximum Design Landing Weight (MLW)\n",
       "*   Maximum Design Zero Fuel Weight (MZFW)\n",
       "*   Operating Empty Weight (OEW)\n",
       "*   Maximum Structural Payload\n",
       "*   Maximum Seating Capacity\n",
       "*   Maximum Cargo Volume\n",
       "*   Usable Fuel"
      ],
      "text/plain": [
       "<IPython.core.display.Markdown object>"
      ]
     },
     "execution_count": 95,
     "metadata": {},
     "output_type": "execute_result"
    }
   ],
   "source": [
    "query = \"Are those the only dimensions available for the aircraft 787-8? If not, what are the other dimensions available?\"\n",
    "\n",
    "result = chain_multimodal_rag.invoke(query)\n",
    "\n",
    "Markdown(result)"
   ]
  },
  {
   "cell_type": "code",
   "execution_count": 97,
   "id": "f8edd26a",
   "metadata": {},
   "outputs": [
    {
     "data": {
      "text/markdown": [
       "Here's the information regarding cabin cross-section dimensions for the Boeing 787-8, extracted from the provided text and image:\n",
       "\n",
       "**Cabin Cross-Section Dimensions (from image of 787-9, but assumed similar to 787-8):**\n",
       "\n",
       "*   **Cabin Width:** 18 FT 11 IN (5.77 M)\n",
       "*   **Cabin Height:** 65 FT 0 IN (19.81 M)\n",
       "\n",
       "**Section Name:**\n",
       "\n",
       "The drawing corresponds to the \"General Dimensions\" of the aircraft. Specifically, the image provided seems to be for the 787-9, but the cabin cross-section dimensions are likely similar to the 787-8.\n",
       "\n",
       "**Additional relevant dimensions from the document (Model 787-8):**\n",
       "\n",
       "*   **Length:** 186 FT 1 IN (56.72 M)\n",
       "*   **Height:** 55 FT 6 IN (16.92 M)\n",
       "*   **Wheel Track:** 34 FT 11 IN (9.73 M)\n",
       "*   **Wheel Base:** 84 FT 9 IN (25.83 M)\n",
       "\n",
       "**Disclaimer:** While I've provided the available information, please note that this is based on the provided document and image. For precise engineering specifications, always refer to official Boeing documentation."
      ],
      "text/plain": [
       "<IPython.core.display.Markdown object>"
      ]
     },
     "execution_count": 97,
     "metadata": {},
     "output_type": "execute_result"
    }
   ],
   "source": [
    "query = \"Give me all available information correponding to cabin cross-sections dimensions of the aircraft 787-8. Provide also the name of the section that the drawing corresponds to.\"\n",
    "\n",
    "result = chain_multimodal_rag.invoke(query)\n",
    "\n",
    "Markdown(result)"
   ]
  },
  {
   "cell_type": "code",
   "execution_count": null,
   "id": "00450eba",
   "metadata": {},
   "outputs": [],
   "source": []
  }
 ],
 "metadata": {
  "kernelspec": {
   "display_name": "venv",
   "language": "python",
   "name": "python3"
  },
  "language_info": {
   "codemirror_mode": {
    "name": "ipython",
    "version": 3
   },
   "file_extension": ".py",
   "mimetype": "text/x-python",
   "name": "python",
   "nbconvert_exporter": "python",
   "pygments_lexer": "ipython3",
   "version": "3.12.9"
  }
 },
 "nbformat": 4,
 "nbformat_minor": 5
}
